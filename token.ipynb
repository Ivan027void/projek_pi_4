{
 "cells": [
  {
   "cell_type": "code",
   "execution_count": 6,
   "metadata": {},
   "outputs": [
    {
     "name": "stderr",
     "output_type": "stream",
     "text": [
      "[nltk_data] Downloading package stopwords to\n",
      "[nltk_data]     C:\\Users\\ahini\\AppData\\Roaming\\nltk_data...\n",
      "[nltk_data]   Package stopwords is already up-to-date!\n"
     ]
    },
    {
     "data": {
      "text/plain": [
       "True"
      ]
     },
     "execution_count": 6,
     "metadata": {},
     "output_type": "execute_result"
    }
   ],
   "source": [
    "import os\n",
    "import nltk\n",
    "import PyPDF2\n",
    "from sklearn.feature_extraction.text import TfidfVectorizer\n",
    "from nltk.corpus import stopwords\n",
    "from nltk.tokenize import word_tokenize\n",
    "from collections import Counter\n",
    "\n",
    "# Pastikan untuk mendownload stopwords dari NLTK\n",
    "nltk.download('stopwords')\n",
    "\n"
   ]
  },
  {
   "cell_type": "code",
   "execution_count": 5,
   "metadata": {},
   "outputs": [],
   "source": [
    "# Lokasi direktori file PDF Anda\n",
    "direktori = \"C:/Users/ahini/Downloads/projek_pi_4/scorpus_pi\"\n",
    "\n",
    "# Membaca semua file PDF dalam direktori\n",
    "file_pdf = [f for f in os.listdir(direktori) if f.endswith('.pdf')]\n",
    "\n"
   ]
  },
  {
   "cell_type": "code",
   "execution_count": 9,
   "metadata": {},
   "outputs": [
    {
     "name": "stdout",
     "output_type": "stream",
     "text": [
      "An error occurred when processing page 0 of <_io.BufferedReader name='scorpus_pi/142748-ID-none.pdf'>. Skipping this page.\n",
      "An error occurred when processing page 1 of <_io.BufferedReader name='scorpus_pi/142748-ID-none.pdf'>. Skipping this page.\n",
      "An error occurred when processing page 2 of <_io.BufferedReader name='scorpus_pi/142748-ID-none.pdf'>. Skipping this page.\n",
      "An error occurred when processing page 3 of <_io.BufferedReader name='scorpus_pi/142748-ID-none.pdf'>. Skipping this page.\n",
      "An error occurred when processing page 4 of <_io.BufferedReader name='scorpus_pi/142748-ID-none.pdf'>. Skipping this page.\n",
      "An error occurred when processing page 5 of <_io.BufferedReader name='scorpus_pi/142748-ID-none.pdf'>. Skipping this page.\n",
      "An error occurred when processing page 6 of <_io.BufferedReader name='scorpus_pi/142748-ID-none.pdf'>. Skipping this page.\n",
      "An error occurred when processing page 7 of <_io.BufferedReader name='scorpus_pi/142748-ID-none.pdf'>. Skipping this page.\n"
     ]
    },
    {
     "data": {
      "text/plain": [
       "''"
      ]
     },
     "execution_count": 9,
     "metadata": {},
     "output_type": "execute_result"
    }
   ],
   "source": [
    "def baca_pdf(file):\n",
    "    with open(file, \"rb\") as file:\n",
    "        pdf = PyPDF2.PdfFileReader(file)\n",
    "        teks = \"\"\n",
    "        for halaman in range(pdf.getNumPages()):\n",
    "            try:\n",
    "                teks += pdf.getPage(halaman).extractText()\n",
    "            except AttributeError:\n",
    "                print(f\"An error occurred when processing page {halaman} of {file}. Skipping this page.\")\n",
    "    return teks\n",
    "\n",
    "\n",
    "baca_pdf('scorpus_pi/142748-ID-none.pdf')"
   ]
  },
  {
   "cell_type": "code",
   "execution_count": 7,
   "metadata": {},
   "outputs": [
    {
     "ename": "AttributeError",
     "evalue": "'NameObject' object has no attribute 'get_data'",
     "output_type": "error",
     "traceback": [
      "\u001b[1;31m---------------------------------------------------------------------------\u001b[0m",
      "\u001b[1;31mAttributeError\u001b[0m                            Traceback (most recent call last)",
      "\u001b[1;32mc:\\Users\\ahini\\Downloads\\projek_pi_4\\token.ipynb Cell 3\u001b[0m line \u001b[0;36m8\n\u001b[0;32m      <a href='vscode-notebook-cell:/c%3A/Users/ahini/Downloads/projek_pi_4/token.ipynb#W5sZmlsZQ%3D%3D?line=5'>6</a>\u001b[0m     \u001b[39mfor\u001b[39;00m i \u001b[39min\u001b[39;00m \u001b[39mrange\u001b[39m(reader\u001b[39m.\u001b[39mgetNumPages()):\n\u001b[0;32m      <a href='vscode-notebook-cell:/c%3A/Users/ahini/Downloads/projek_pi_4/token.ipynb#W5sZmlsZQ%3D%3D?line=6'>7</a>\u001b[0m         page \u001b[39m=\u001b[39m reader\u001b[39m.\u001b[39mgetPage(i)\n\u001b[1;32m----> <a href='vscode-notebook-cell:/c%3A/Users/ahini/Downloads/projek_pi_4/token.ipynb#W5sZmlsZQ%3D%3D?line=7'>8</a>\u001b[0m         text \u001b[39m+\u001b[39m\u001b[39m=\u001b[39m page\u001b[39m.\u001b[39mextractText()\n\u001b[0;32m     <a href='vscode-notebook-cell:/c%3A/Users/ahini/Downloads/projek_pi_4/token.ipynb#W5sZmlsZQ%3D%3D?line=9'>10</a>\u001b[0m \u001b[39m# Tokenize the text\u001b[39;00m\n\u001b[0;32m     <a href='vscode-notebook-cell:/c%3A/Users/ahini/Downloads/projek_pi_4/token.ipynb#W5sZmlsZQ%3D%3D?line=10'>11</a>\u001b[0m tokens \u001b[39m=\u001b[39m word_tokenize(text)\n",
      "File \u001b[1;32mc:\\Users\\ahini\\anaconda3\\Lib\\site-packages\\PyPDF2\\_page.py:1870\u001b[0m, in \u001b[0;36mPageObject.extractText\u001b[1;34m(self, Tj_sep, TJ_sep)\u001b[0m\n\u001b[0;32m   1864\u001b[0m \u001b[39m\u001b[39m\u001b[39m\"\"\"\u001b[39;00m\n\u001b[0;32m   1865\u001b[0m \u001b[39m.. deprecated:: 1.28.0\u001b[39;00m\n\u001b[0;32m   1866\u001b[0m \n\u001b[0;32m   1867\u001b[0m \u001b[39m    Use :meth:`extract_text` instead.\u001b[39;00m\n\u001b[0;32m   1868\u001b[0m \u001b[39m\"\"\"\u001b[39;00m\n\u001b[0;32m   1869\u001b[0m deprecate_with_replacement(\u001b[39m\"\u001b[39m\u001b[39mextractText\u001b[39m\u001b[39m\"\u001b[39m, \u001b[39m\"\u001b[39m\u001b[39mextract_text\u001b[39m\u001b[39m\"\u001b[39m)\n\u001b[1;32m-> 1870\u001b[0m \u001b[39mreturn\u001b[39;00m \u001b[39mself\u001b[39m\u001b[39m.\u001b[39mextract_text()\n",
      "File \u001b[1;32mc:\\Users\\ahini\\anaconda3\\Lib\\site-packages\\PyPDF2\\_page.py:1823\u001b[0m, in \u001b[0;36mPageObject.extract_text\u001b[1;34m(self, Tj_sep, TJ_sep, orientations, space_width, visitor_operand_before, visitor_operand_after, visitor_text, *args)\u001b[0m\n\u001b[0;32m   1820\u001b[0m \u001b[39mif\u001b[39;00m \u001b[39misinstance\u001b[39m(orientations, \u001b[39mint\u001b[39m):\n\u001b[0;32m   1821\u001b[0m     orientations \u001b[39m=\u001b[39m (orientations,)\n\u001b[1;32m-> 1823\u001b[0m \u001b[39mreturn\u001b[39;00m \u001b[39mself\u001b[39m\u001b[39m.\u001b[39m_extract_text(\n\u001b[0;32m   1824\u001b[0m     \u001b[39mself\u001b[39m,\n\u001b[0;32m   1825\u001b[0m     \u001b[39mself\u001b[39m\u001b[39m.\u001b[39mpdf,\n\u001b[0;32m   1826\u001b[0m     orientations,\n\u001b[0;32m   1827\u001b[0m     space_width,\n\u001b[0;32m   1828\u001b[0m     PG\u001b[39m.\u001b[39mCONTENTS,\n\u001b[0;32m   1829\u001b[0m     visitor_operand_before,\n\u001b[0;32m   1830\u001b[0m     visitor_operand_after,\n\u001b[0;32m   1831\u001b[0m     visitor_text,\n\u001b[0;32m   1832\u001b[0m )\n",
      "File \u001b[1;32mc:\\Users\\ahini\\anaconda3\\Lib\\site-packages\\PyPDF2\\_page.py:1323\u001b[0m, in \u001b[0;36mPageObject._extract_text\u001b[1;34m(self, obj, pdf, orientations, space_width, content_key, visitor_operand_before, visitor_operand_after, visitor_text)\u001b[0m\n\u001b[0;32m   1321\u001b[0m \u001b[39mif\u001b[39;00m \u001b[39m\"\u001b[39m\u001b[39m/Font\u001b[39m\u001b[39m\"\u001b[39m \u001b[39min\u001b[39;00m resources_dict:\n\u001b[0;32m   1322\u001b[0m     \u001b[39mfor\u001b[39;00m f \u001b[39min\u001b[39;00m cast(DictionaryObject, resources_dict[\u001b[39m\"\u001b[39m\u001b[39m/Font\u001b[39m\u001b[39m\"\u001b[39m]):\n\u001b[1;32m-> 1323\u001b[0m         cmaps[f] \u001b[39m=\u001b[39m build_char_map(f, space_width, obj)\n\u001b[0;32m   1324\u001b[0m cmap: Tuple[\n\u001b[0;32m   1325\u001b[0m     Union[\u001b[39mstr\u001b[39m, Dict[\u001b[39mint\u001b[39m, \u001b[39mstr\u001b[39m]], Dict[\u001b[39mstr\u001b[39m, \u001b[39mstr\u001b[39m], \u001b[39mstr\u001b[39m, Optional[DictionaryObject]\n\u001b[0;32m   1326\u001b[0m ] \u001b[39m=\u001b[39m (\n\u001b[1;32m   (...)\u001b[0m\n\u001b[0;32m   1330\u001b[0m     \u001b[39mNone\u001b[39;00m,\n\u001b[0;32m   1331\u001b[0m )  \u001b[39m# (encoding,CMAP,font resource name,dictionary-object of font)\u001b[39;00m\n\u001b[0;32m   1332\u001b[0m \u001b[39mtry\u001b[39;00m:\n",
      "File \u001b[1;32mc:\\Users\\ahini\\anaconda3\\Lib\\site-packages\\PyPDF2\\_cmap.py:28\u001b[0m, in \u001b[0;36mbuild_char_map\u001b[1;34m(font_name, space_width, obj)\u001b[0m\n\u001b[0;32m     26\u001b[0m space_code \u001b[39m=\u001b[39m \u001b[39m32\u001b[39m\n\u001b[0;32m     27\u001b[0m encoding, space_code \u001b[39m=\u001b[39m parse_encoding(ft, space_code)\n\u001b[1;32m---> 28\u001b[0m map_dict, space_code, int_entry \u001b[39m=\u001b[39m parse_to_unicode(ft, space_code)\n\u001b[0;32m     30\u001b[0m \u001b[39m# encoding can be either a string for decode (on 1,2 or a variable number of bytes) of a char table (for 1 byte only for me)\u001b[39;00m\n\u001b[0;32m     31\u001b[0m \u001b[39m# if empty string, it means it is than encoding field is not present and we have to select the good encoding from cmap input data\u001b[39;00m\n\u001b[0;32m     32\u001b[0m \u001b[39mif\u001b[39;00m encoding \u001b[39m==\u001b[39m \u001b[39m\"\u001b[39m\u001b[39m\"\u001b[39m:\n",
      "File \u001b[1;32mc:\\Users\\ahini\\anaconda3\\Lib\\site-packages\\PyPDF2\\_cmap.py:194\u001b[0m, in \u001b[0;36mparse_to_unicode\u001b[1;34m(ft, space_code)\u001b[0m\n\u001b[0;32m    190\u001b[0m process_char: \u001b[39mbool\u001b[39m \u001b[39m=\u001b[39m \u001b[39mFalse\u001b[39;00m\n\u001b[0;32m    191\u001b[0m multiline_rg: Union[\n\u001b[0;32m    192\u001b[0m     \u001b[39mNone\u001b[39;00m, Tuple[\u001b[39mint\u001b[39m, \u001b[39mint\u001b[39m]\n\u001b[0;32m    193\u001b[0m ] \u001b[39m=\u001b[39m \u001b[39mNone\u001b[39;00m  \u001b[39m# tuple = (current_char, remaining size) ; cf #1285 for example of file\u001b[39;00m\n\u001b[1;32m--> 194\u001b[0m cm \u001b[39m=\u001b[39m prepare_cm(ft)\n\u001b[0;32m    195\u001b[0m \u001b[39mfor\u001b[39;00m l \u001b[39min\u001b[39;00m cm\u001b[39m.\u001b[39msplit(\u001b[39mb\u001b[39m\u001b[39m\"\u001b[39m\u001b[39m\\n\u001b[39;00m\u001b[39m\"\u001b[39m):\n\u001b[0;32m    196\u001b[0m     process_rg, process_char, multiline_rg \u001b[39m=\u001b[39m process_cm_line(\n\u001b[0;32m    197\u001b[0m         l\u001b[39m.\u001b[39mstrip(\u001b[39mb\u001b[39m\u001b[39m\"\u001b[39m\u001b[39m \u001b[39m\u001b[39m\"\u001b[39m), process_rg, process_char, multiline_rg, map_dict, int_entry\n\u001b[0;32m    198\u001b[0m     )\n",
      "File \u001b[1;32mc:\\Users\\ahini\\anaconda3\\Lib\\site-packages\\PyPDF2\\_cmap.py:207\u001b[0m, in \u001b[0;36mprepare_cm\u001b[1;34m(ft)\u001b[0m\n\u001b[0;32m    206\u001b[0m \u001b[39mdef\u001b[39;00m \u001b[39mprepare_cm\u001b[39m(ft: DictionaryObject) \u001b[39m-\u001b[39m\u001b[39m>\u001b[39m \u001b[39mbytes\u001b[39m:\n\u001b[1;32m--> 207\u001b[0m     cm: \u001b[39mbytes\u001b[39m \u001b[39m=\u001b[39m cast(DecodedStreamObject, ft[\u001b[39m\"\u001b[39m\u001b[39m/ToUnicode\u001b[39m\u001b[39m\"\u001b[39m])\u001b[39m.\u001b[39mget_data()\n\u001b[0;32m    208\u001b[0m     \u001b[39mif\u001b[39;00m \u001b[39misinstance\u001b[39m(cm, \u001b[39mstr\u001b[39m):\n\u001b[0;32m    209\u001b[0m         cm \u001b[39m=\u001b[39m cm\u001b[39m.\u001b[39mencode()\n",
      "\u001b[1;31mAttributeError\u001b[0m: 'NameObject' object has no attribute 'get_data'"
     ]
    }
   ],
   "source": [
    "# Open the PDF file\n",
    "with open('scorpus_pi/142748-ID-none.pdf', 'rb') as f:\n",
    "    reader = PyPDF2.PdfFileReader(f)\n",
    "    text = ''\n",
    "    # Read each page and extract the text\n",
    "    for i in range(reader.getNumPages()):\n",
    "        page = reader.getPage(i)\n",
    "        text += page.extractText()\n",
    "\n",
    "# Tokenize the text\n",
    "tokens = word_tokenize(text)\n",
    "\n",
    "# Count the occurrence of each term\n",
    "term_counts = Counter(tokens)\n",
    "\n",
    "# Print the counts\n",
    "for term, count in term_counts.items():\n",
    "    print(f'Term: {term}, Count: {count}')\n"
   ]
  },
  {
   "cell_type": "code",
   "execution_count": 3,
   "metadata": {},
   "outputs": [
    {
     "ename": "AttributeError",
     "evalue": "'NameObject' object has no attribute 'get_data'",
     "output_type": "error",
     "traceback": [
      "\u001b[1;31m---------------------------------------------------------------------------\u001b[0m",
      "\u001b[1;31mAttributeError\u001b[0m                            Traceback (most recent call last)",
      "\u001b[1;32mc:\\Users\\ahini\\Downloads\\projek_pi_4\\token.ipynb Cell 2\u001b[0m line \u001b[0;36m1\n\u001b[0;32m     <a href='vscode-notebook-cell:/c%3A/Users/ahini/Downloads/projek_pi_4/token.ipynb#W2sZmlsZQ%3D%3D?line=16'>17</a>\u001b[0m teks_dokumen \u001b[39m=\u001b[39m []\n\u001b[0;32m     <a href='vscode-notebook-cell:/c%3A/Users/ahini/Downloads/projek_pi_4/token.ipynb#W2sZmlsZQ%3D%3D?line=17'>18</a>\u001b[0m \u001b[39mfor\u001b[39;00m file \u001b[39min\u001b[39;00m file_pdf:\n\u001b[1;32m---> <a href='vscode-notebook-cell:/c%3A/Users/ahini/Downloads/projek_pi_4/token.ipynb#W2sZmlsZQ%3D%3D?line=18'>19</a>\u001b[0m     teks \u001b[39m=\u001b[39m baca_pdf(os\u001b[39m.\u001b[39mpath\u001b[39m.\u001b[39mjoin(direktori, file))\n\u001b[0;32m     <a href='vscode-notebook-cell:/c%3A/Users/ahini/Downloads/projek_pi_4/token.ipynb#W2sZmlsZQ%3D%3D?line=19'>20</a>\u001b[0m     teks_dokumen\u001b[39m.\u001b[39mappend(teks)\n",
      "\u001b[1;32mc:\\Users\\ahini\\Downloads\\projek_pi_4\\token.ipynb Cell 2\u001b[0m line \u001b[0;36m1\n\u001b[0;32m     <a href='vscode-notebook-cell:/c%3A/Users/ahini/Downloads/projek_pi_4/token.ipynb#W2sZmlsZQ%3D%3D?line=10'>11</a>\u001b[0m     teks \u001b[39m=\u001b[39m \u001b[39m\"\u001b[39m\u001b[39m\"\u001b[39m\n\u001b[0;32m     <a href='vscode-notebook-cell:/c%3A/Users/ahini/Downloads/projek_pi_4/token.ipynb#W2sZmlsZQ%3D%3D?line=11'>12</a>\u001b[0m     \u001b[39mfor\u001b[39;00m halaman \u001b[39min\u001b[39;00m \u001b[39mrange\u001b[39m(pdf\u001b[39m.\u001b[39mgetNumPages()):\n\u001b[1;32m---> <a href='vscode-notebook-cell:/c%3A/Users/ahini/Downloads/projek_pi_4/token.ipynb#W2sZmlsZQ%3D%3D?line=12'>13</a>\u001b[0m         teks \u001b[39m+\u001b[39m\u001b[39m=\u001b[39m pdf\u001b[39m.\u001b[39mgetPage(halaman)\u001b[39m.\u001b[39mextractText()\n\u001b[0;32m     <a href='vscode-notebook-cell:/c%3A/Users/ahini/Downloads/projek_pi_4/token.ipynb#W2sZmlsZQ%3D%3D?line=13'>14</a>\u001b[0m \u001b[39mreturn\u001b[39;00m teks\n",
      "File \u001b[1;32mc:\\Users\\ahini\\anaconda3\\Lib\\site-packages\\PyPDF2\\_page.py:1870\u001b[0m, in \u001b[0;36mPageObject.extractText\u001b[1;34m(self, Tj_sep, TJ_sep)\u001b[0m\n\u001b[0;32m   1864\u001b[0m \u001b[39m\u001b[39m\u001b[39m\"\"\"\u001b[39;00m\n\u001b[0;32m   1865\u001b[0m \u001b[39m.. deprecated:: 1.28.0\u001b[39;00m\n\u001b[0;32m   1866\u001b[0m \n\u001b[0;32m   1867\u001b[0m \u001b[39m    Use :meth:`extract_text` instead.\u001b[39;00m\n\u001b[0;32m   1868\u001b[0m \u001b[39m\"\"\"\u001b[39;00m\n\u001b[0;32m   1869\u001b[0m deprecate_with_replacement(\u001b[39m\"\u001b[39m\u001b[39mextractText\u001b[39m\u001b[39m\"\u001b[39m, \u001b[39m\"\u001b[39m\u001b[39mextract_text\u001b[39m\u001b[39m\"\u001b[39m)\n\u001b[1;32m-> 1870\u001b[0m \u001b[39mreturn\u001b[39;00m \u001b[39mself\u001b[39m\u001b[39m.\u001b[39mextract_text()\n",
      "File \u001b[1;32mc:\\Users\\ahini\\anaconda3\\Lib\\site-packages\\PyPDF2\\_page.py:1823\u001b[0m, in \u001b[0;36mPageObject.extract_text\u001b[1;34m(self, Tj_sep, TJ_sep, orientations, space_width, visitor_operand_before, visitor_operand_after, visitor_text, *args)\u001b[0m\n\u001b[0;32m   1820\u001b[0m \u001b[39mif\u001b[39;00m \u001b[39misinstance\u001b[39m(orientations, \u001b[39mint\u001b[39m):\n\u001b[0;32m   1821\u001b[0m     orientations \u001b[39m=\u001b[39m (orientations,)\n\u001b[1;32m-> 1823\u001b[0m \u001b[39mreturn\u001b[39;00m \u001b[39mself\u001b[39m\u001b[39m.\u001b[39m_extract_text(\n\u001b[0;32m   1824\u001b[0m     \u001b[39mself\u001b[39m,\n\u001b[0;32m   1825\u001b[0m     \u001b[39mself\u001b[39m\u001b[39m.\u001b[39mpdf,\n\u001b[0;32m   1826\u001b[0m     orientations,\n\u001b[0;32m   1827\u001b[0m     space_width,\n\u001b[0;32m   1828\u001b[0m     PG\u001b[39m.\u001b[39mCONTENTS,\n\u001b[0;32m   1829\u001b[0m     visitor_operand_before,\n\u001b[0;32m   1830\u001b[0m     visitor_operand_after,\n\u001b[0;32m   1831\u001b[0m     visitor_text,\n\u001b[0;32m   1832\u001b[0m )\n",
      "File \u001b[1;32mc:\\Users\\ahini\\anaconda3\\Lib\\site-packages\\PyPDF2\\_page.py:1323\u001b[0m, in \u001b[0;36mPageObject._extract_text\u001b[1;34m(self, obj, pdf, orientations, space_width, content_key, visitor_operand_before, visitor_operand_after, visitor_text)\u001b[0m\n\u001b[0;32m   1321\u001b[0m \u001b[39mif\u001b[39;00m \u001b[39m\"\u001b[39m\u001b[39m/Font\u001b[39m\u001b[39m\"\u001b[39m \u001b[39min\u001b[39;00m resources_dict:\n\u001b[0;32m   1322\u001b[0m     \u001b[39mfor\u001b[39;00m f \u001b[39min\u001b[39;00m cast(DictionaryObject, resources_dict[\u001b[39m\"\u001b[39m\u001b[39m/Font\u001b[39m\u001b[39m\"\u001b[39m]):\n\u001b[1;32m-> 1323\u001b[0m         cmaps[f] \u001b[39m=\u001b[39m build_char_map(f, space_width, obj)\n\u001b[0;32m   1324\u001b[0m cmap: Tuple[\n\u001b[0;32m   1325\u001b[0m     Union[\u001b[39mstr\u001b[39m, Dict[\u001b[39mint\u001b[39m, \u001b[39mstr\u001b[39m]], Dict[\u001b[39mstr\u001b[39m, \u001b[39mstr\u001b[39m], \u001b[39mstr\u001b[39m, Optional[DictionaryObject]\n\u001b[0;32m   1326\u001b[0m ] \u001b[39m=\u001b[39m (\n\u001b[1;32m   (...)\u001b[0m\n\u001b[0;32m   1330\u001b[0m     \u001b[39mNone\u001b[39;00m,\n\u001b[0;32m   1331\u001b[0m )  \u001b[39m# (encoding,CMAP,font resource name,dictionary-object of font)\u001b[39;00m\n\u001b[0;32m   1332\u001b[0m \u001b[39mtry\u001b[39;00m:\n",
      "File \u001b[1;32mc:\\Users\\ahini\\anaconda3\\Lib\\site-packages\\PyPDF2\\_cmap.py:28\u001b[0m, in \u001b[0;36mbuild_char_map\u001b[1;34m(font_name, space_width, obj)\u001b[0m\n\u001b[0;32m     26\u001b[0m space_code \u001b[39m=\u001b[39m \u001b[39m32\u001b[39m\n\u001b[0;32m     27\u001b[0m encoding, space_code \u001b[39m=\u001b[39m parse_encoding(ft, space_code)\n\u001b[1;32m---> 28\u001b[0m map_dict, space_code, int_entry \u001b[39m=\u001b[39m parse_to_unicode(ft, space_code)\n\u001b[0;32m     30\u001b[0m \u001b[39m# encoding can be either a string for decode (on 1,2 or a variable number of bytes) of a char table (for 1 byte only for me)\u001b[39;00m\n\u001b[0;32m     31\u001b[0m \u001b[39m# if empty string, it means it is than encoding field is not present and we have to select the good encoding from cmap input data\u001b[39;00m\n\u001b[0;32m     32\u001b[0m \u001b[39mif\u001b[39;00m encoding \u001b[39m==\u001b[39m \u001b[39m\"\u001b[39m\u001b[39m\"\u001b[39m:\n",
      "File \u001b[1;32mc:\\Users\\ahini\\anaconda3\\Lib\\site-packages\\PyPDF2\\_cmap.py:194\u001b[0m, in \u001b[0;36mparse_to_unicode\u001b[1;34m(ft, space_code)\u001b[0m\n\u001b[0;32m    190\u001b[0m process_char: \u001b[39mbool\u001b[39m \u001b[39m=\u001b[39m \u001b[39mFalse\u001b[39;00m\n\u001b[0;32m    191\u001b[0m multiline_rg: Union[\n\u001b[0;32m    192\u001b[0m     \u001b[39mNone\u001b[39;00m, Tuple[\u001b[39mint\u001b[39m, \u001b[39mint\u001b[39m]\n\u001b[0;32m    193\u001b[0m ] \u001b[39m=\u001b[39m \u001b[39mNone\u001b[39;00m  \u001b[39m# tuple = (current_char, remaining size) ; cf #1285 for example of file\u001b[39;00m\n\u001b[1;32m--> 194\u001b[0m cm \u001b[39m=\u001b[39m prepare_cm(ft)\n\u001b[0;32m    195\u001b[0m \u001b[39mfor\u001b[39;00m l \u001b[39min\u001b[39;00m cm\u001b[39m.\u001b[39msplit(\u001b[39mb\u001b[39m\u001b[39m\"\u001b[39m\u001b[39m\\n\u001b[39;00m\u001b[39m\"\u001b[39m):\n\u001b[0;32m    196\u001b[0m     process_rg, process_char, multiline_rg \u001b[39m=\u001b[39m process_cm_line(\n\u001b[0;32m    197\u001b[0m         l\u001b[39m.\u001b[39mstrip(\u001b[39mb\u001b[39m\u001b[39m\"\u001b[39m\u001b[39m \u001b[39m\u001b[39m\"\u001b[39m), process_rg, process_char, multiline_rg, map_dict, int_entry\n\u001b[0;32m    198\u001b[0m     )\n",
      "File \u001b[1;32mc:\\Users\\ahini\\anaconda3\\Lib\\site-packages\\PyPDF2\\_cmap.py:207\u001b[0m, in \u001b[0;36mprepare_cm\u001b[1;34m(ft)\u001b[0m\n\u001b[0;32m    206\u001b[0m \u001b[39mdef\u001b[39;00m \u001b[39mprepare_cm\u001b[39m(ft: DictionaryObject) \u001b[39m-\u001b[39m\u001b[39m>\u001b[39m \u001b[39mbytes\u001b[39m:\n\u001b[1;32m--> 207\u001b[0m     cm: \u001b[39mbytes\u001b[39m \u001b[39m=\u001b[39m cast(DecodedStreamObject, ft[\u001b[39m\"\u001b[39m\u001b[39m/ToUnicode\u001b[39m\u001b[39m\"\u001b[39m])\u001b[39m.\u001b[39mget_data()\n\u001b[0;32m    208\u001b[0m     \u001b[39mif\u001b[39;00m \u001b[39misinstance\u001b[39m(cm, \u001b[39mstr\u001b[39m):\n\u001b[0;32m    209\u001b[0m         cm \u001b[39m=\u001b[39m cm\u001b[39m.\u001b[39mencode()\n",
      "\u001b[1;31mAttributeError\u001b[0m: 'NameObject' object has no attribute 'get_data'"
     ]
    }
   ],
   "source": [
    "# Fungsi untuk membaca teks dari file PDF\n",
    "def baca_pdf(file):\n",
    "    with open(file, \"rb\") as file:\n",
    "        pdf = PyPDF2.PdfFileReader(file)\n",
    "        teks = \"\"\n",
    "        for halaman in range(pdf.getNumPages()):\n",
    "            teks += pdf.getPage(halaman).extractText()\n",
    "    return teks\n",
    "\n",
    "# Mengumpulkan semua teks dari file PDF\n",
    "teks_dokumen = []\n",
    "for file in file_pdf:\n",
    "    teks = baca_pdf(os.path.join(direktori, file))\n",
    "    teks_dokumen.append(teks)\n",
    "\n"
   ]
  },
  {
   "cell_type": "code",
   "execution_count": null,
   "metadata": {},
   "outputs": [],
   "source": [
    "# Membuat objek TfidfVectorizer\n",
    "vectorizer = TfidfVectorizer(stop_words=stopwords.words('indonesian'))\n",
    "\n",
    "# Menghitung skor TF-IDF untuk setiap term dalam dokumen\n",
    "tfidf_matrix = vectorizer.fit_transform(teks_dokumen)\n",
    "\n",
    "# Mendapatkan daftar semua term yang unik dalam dokumen\n",
    "fitur = vectorizer.get_feature_names_out()\n",
    "\n",
    "# Menghitung jumlah kemunculan setiap term\n",
    "jumlah_kemunculan = tfidf_matrix.sum(axis=0)\n",
    "\n",
    "for i, fitur in enumerate(fitur):\n",
    "    print(f\"Term: {fitur}, Jumlah Kemunculan: {jumlah_kemunculan[0, i]}\")"
   ]
  }
 ],
 "metadata": {
  "kernelspec": {
   "display_name": "base",
   "language": "python",
   "name": "python3"
  },
  "language_info": {
   "codemirror_mode": {
    "name": "ipython",
    "version": 3
   },
   "file_extension": ".py",
   "mimetype": "text/x-python",
   "name": "python",
   "nbconvert_exporter": "python",
   "pygments_lexer": "ipython3",
   "version": "3.11.4"
  },
  "orig_nbformat": 4
 },
 "nbformat": 4,
 "nbformat_minor": 2
}
